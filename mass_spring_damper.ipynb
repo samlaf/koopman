{
 "cells": [
  {
   "cell_type": "markdown",
   "metadata": {},
   "source": [
    "# Mass Spring Damper System\n",
    "### mx'' + cx' + kx = u\n",
    "###### https://en.wikipedia.org/wiki/Mass-spring-damper_model"
   ]
  },
  {
   "cell_type": "markdown",
   "metadata": {},
   "source": [
    "![Image of mass-spring-damper system](http://www.roboticslab.ca/wp-content/uploads/2012/11/msd.png)"
   ]
  },
  {
   "cell_type": "code",
   "execution_count": 1,
   "metadata": {},
   "outputs": [],
   "source": [
    "import numpy as np\n",
    "import matplotlib.pyplot as plt\n",
    "from ipywidgets import interact, FloatSlider\n",
    "from matplotlib.pyplot import rcParams\n",
    "from utils import plot_xv"
   ]
  },
  {
   "cell_type": "markdown",
   "metadata": {},
   "source": [
    "### We start with the most basic thing: equations of motion and integrating trajectories (u=0)\n",
    "##### We use https://docs.scipy.org/doc/scipy/reference/generated/scipy.integrate.solve_ivp.html"
   ]
  },
  {
   "cell_type": "code",
   "execution_count": 2,
   "metadata": {},
   "outputs": [],
   "source": [
    "from scipy.integrate import solve_ivp"
   ]
  },
  {
   "cell_type": "code",
   "execution_count": 3,
   "metadata": {},
   "outputs": [],
   "source": [
    "# This is the implementation of the mass-spring-damper that needs to be integrated, \n",
    "# using solve_ivp (initial value problem)\n",
    "def msd_int(t, y, m=1, c=1, k=1):\n",
    "    v,x = y\n",
    "    dxdt = v\n",
    "    dvdt = - v*c/m - x*k/m\n",
    "    return [dvdt, dxdt]"
   ]
  },
  {
   "cell_type": "code",
   "execution_count": 4,
   "metadata": {
    "scrolled": false
   },
   "outputs": [
    {
     "data": {
      "application/vnd.jupyter.widget-view+json": {
       "model_id": "ea7f355152f044438150b9ac59bd8a1b",
       "version_major": 2,
       "version_minor": 0
      },
      "text/plain": [
       "interactive(children=(IntSlider(value=5, description='m', max=10, min=1), IntSlider(value=5, description='c', …"
      ]
     },
     "metadata": {},
     "output_type": "display_data"
    }
   ],
   "source": [
    "rcParams['figure.figsize'] = 12, 4\n",
    "@interact(m=(1,10,1), c=(0,10), k=(0,10))\n",
    "def plot_interactive_msd(m,c,k):\n",
    "    y = solve_ivp(msd_int, y0=[0,1], t_span=(0,10), t_eval=np.arange(0,10,0.01), args=(m,c,k))\n",
    "    plot_xv(y.y[1], y.y[0], y.t, title='Unforced Dynamics', \n",
    "            ax1ylim=[-0.6,1.1], ax2xlim=[-0.5,1.1], ax2ylim=[-0.8,0.2])"
   ]
  },
  {
   "cell_type": "markdown",
   "metadata": {},
   "source": [
    "### And then add inputs\n",
    "##### We use https://python-control.readthedocs.io/en/0.8.3/index.html#"
   ]
  },
  {
   "cell_type": "code",
   "execution_count": 5,
   "metadata": {},
   "outputs": [],
   "source": [
    "import control as ct"
   ]
  },
  {
   "cell_type": "code",
   "execution_count": 6,
   "metadata": {},
   "outputs": [],
   "source": [
    "# This function builds the mass-spring-damper state-space (msd_ss) object\n",
    "def get_msd_ss(m=1,c=1,k=1, fullstate=False):\n",
    "    A = np.array([[-c/m, -k/m],\n",
    "                  [1, 0]])\n",
    "    B = np.array([[1],\n",
    "                  [0]])\n",
    "    if fullstate:\n",
    "        C = np.eye(2)\n",
    "    else:\n",
    "        C = np.array([0,1])\n",
    "    D = 0\n",
    "    msd_ss = ct.ss(A,B,C,D)\n",
    "    return msd_ss"
   ]
  },
  {
   "cell_type": "code",
   "execution_count": 42,
   "metadata": {},
   "outputs": [
    {
     "data": {
      "application/vnd.jupyter.widget-view+json": {
       "model_id": "fc6b826b07bb41f59704dd8748af82a6",
       "version_major": 2,
       "version_minor": 0
      },
      "text/plain": [
       "interactive(children=(IntSlider(value=5, description='m', max=10, min=1), IntSlider(value=5, description='c', …"
      ]
     },
     "metadata": {},
     "output_type": "display_data"
    }
   ],
   "source": [
    "# Note that here we get the exact same plots as above, except using the control library instead\n",
    "# But instead of initial_response we could also use step_response, impulse_response, etc.\n",
    "@interact(m=(1,10,1), c=(0,10), k=(0,10))\n",
    "def plot_interactive_msd_step(m,c,k):\n",
    "    msd_ss = get_msd_ss(m,c,k)\n",
    "    t,y,z = ct.initial_response(msd_ss, X0=[0,1], return_x=True)\n",
    "    plot_xv(z[1], z[0], t, title='Step Response')"
   ]
  },
  {
   "cell_type": "markdown",
   "metadata": {},
   "source": [
    "### We finally actually control the system, first with PID"
   ]
  },
  {
   "cell_type": "code",
   "execution_count": 87,
   "metadata": {},
   "outputs": [
    {
     "name": "stdout",
     "output_type": "stream",
     "text": [
      "\n",
      "     1\n",
      "-----------\n",
      "s^2 + s + 1\n",
      "\n"
     ]
    }
   ],
   "source": [
    "m=1; c=1; k=1;\n",
    "msd_ss = get_msd_ss(m,c,k)\n",
    "# We transform the state-space representation into transfer-function representation, because this makes it easier\n",
    "# to cascade with PI controllers, which have simple tf representation (kp + ki/s)\n",
    "msd_tf = ct.ss2tf(msd_ss)\n",
    "print(msd_tf)"
   ]
  },
  {
   "cell_type": "code",
   "execution_count": 50,
   "metadata": {},
   "outputs": [],
   "source": [
    "# Here we build an approximate PID controller\n",
    "# Note \"approximate\" because PID with \"real\" derivative term (kd*s) don't have a tf realization!\n",
    "# See http://www.cds.caltech.edu/~murray/books/AM08/pdf/fbs-pid_17Aug2019.pdf for details\n",
    "def get_pid_tf(kp=1, ki=1, kd=1, tau=1):\n",
    "    s = ct.tf('s')\n",
    "    pid_tf = kp + ki/s + kd*s/(tau*s+1)\n",
    "    return pid_tf"
   ]
  },
  {
   "cell_type": "code",
   "execution_count": 103,
   "metadata": {},
   "outputs": [
    {
     "data": {
      "application/vnd.jupyter.widget-view+json": {
       "model_id": "47c17d0a691d45cf850f2580781c35bc",
       "version_major": 2,
       "version_minor": 0
      },
      "text/plain": [
       "interactive(children=(IntSlider(value=1, description='kp', max=10), IntSlider(value=1, description='ki', max=1…"
      ]
     },
     "metadata": {},
     "output_type": "display_data"
    }
   ],
   "source": [
    "# Then we get the closed loop tf\n",
    "#  r--+-->[C]-->[P]-->y\n",
    "#     |               |\n",
    "#     ^----[-1]<------|\n",
    "@interact(kp=(0,10), ki=(0,10), kd=(0,10))\n",
    "def plot_interactive_msd_step(kp=1,ki=1,kd=0):\n",
    "    pid_tf = get_pid_tf(kp,ki,kd)\n",
    "    closed_tf = ct.feedback(pid_tf*msd_tf,1)\n",
    "    print(\"closed tf\", closed_tf)\n",
    "    t,y=ct.step_response(closed_tf)\n",
    "    plt.plot(y)\n",
    "    plt.ylim([-0.1,1.6])"
   ]
  },
  {
   "cell_type": "markdown",
   "metadata": {},
   "source": [
    "### Now LQR"
   ]
  },
  {
   "cell_type": "code",
   "execution_count": 163,
   "metadata": {},
   "outputs": [],
   "source": [
    "m=1; c=1; k=1;\n",
    "msd_ss = get_msd_ss(m,c,k, fullstate=True)\n",
    "A = msd_ss.A\n",
    "B = msd_ss.B"
   ]
  },
  {
   "cell_type": "code",
   "execution_count": 166,
   "metadata": {},
   "outputs": [],
   "source": [
    "Klqr,_,_ = ct.lqr(A,B,np.eye(2),1)"
   ]
  },
  {
   "cell_type": "markdown",
   "metadata": {},
   "source": [
    "Not sure how to deal with change of variables (if I want LQR to not lead to (0,0) state)... TODO!"
   ]
  },
  {
   "cell_type": "markdown",
   "metadata": {},
   "source": [
    "# Bibliography\n",
    "http://ctms.engin.umich.edu/CTMS/index.php?example=Introduction&section=SystemModeling"
   ]
  }
 ],
 "metadata": {
  "kernelspec": {
   "display_name": "Python 3",
   "language": "python",
   "name": "python3"
  },
  "language_info": {
   "codemirror_mode": {
    "name": "ipython",
    "version": 3
   },
   "file_extension": ".py",
   "mimetype": "text/x-python",
   "name": "python",
   "nbconvert_exporter": "python",
   "pygments_lexer": "ipython3",
   "version": "3.8.5"
  }
 },
 "nbformat": 4,
 "nbformat_minor": 2
}
