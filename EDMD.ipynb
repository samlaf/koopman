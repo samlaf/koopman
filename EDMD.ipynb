{
 "cells": [
  {
   "cell_type": "markdown",
   "metadata": {},
   "source": [
    "# Here we look at (extended) dynamic mode composition, and its relation to Koopman"
   ]
  },
  {
   "cell_type": "code",
   "execution_count": 1,
   "metadata": {},
   "outputs": [],
   "source": [
    "import numpy as np\n",
    "import matplotlib.pyplot as plt"
   ]
  },
  {
   "cell_type": "markdown",
   "metadata": {},
   "source": [
    "#### The first toy example is taken from Clarence Rowley's talk https://ipam.wistia.com/medias/sl5hs1srxf (~21:30)\n",
    "We start with the following $z=F(z)$ dynamics\n",
    "$$\n",
    "\\begin{bmatrix} z_1 \\\\\n",
    "                z_2 \n",
    "                \\end{bmatrix}\n",
    "=\n",
    "\\begin{bmatrix} \\lambda z_1 \\\\\n",
    "               \\mu z_2 + (\\lambda^2 - \\mu)cz_1^2\n",
    "               \\end{bmatrix}\n",
    "$$\n",
    "The Koopman operator $U$ is then defined on observables by $U\\phi = \\phi \\circ F$. \\\n",
    "The eigenvalues of $U$ are $\\lambda$ and $\\mu$ and their respective eigenfunctions (eigenobservables) are \n",
    "$$ \\phi_\\lambda(z) = z_1 $$\n",
    "$$ \\phi_\\mu(z) = z_2 - cz_1^2 $$\n",
    "We can use DMD to recover the eigenvalues.\n",
    "\n",
    "We start with a dataset of points $Z = \\begin{bmatrix} z^{(1)} z^{(2)} \\dots z^{(n-1)} \\end{bmatrix}$, and let $Z' = F(Z) = \\begin{bmatrix} z^{(2)} z^{(3)} \\dots z^{(n)} \\end{bmatrix}$ \\\n",
    "We form the observation matrices $X = g(Z)$, $Y = g(Z')$ \\\n",
    "And then learn $A$ to relate these by $Y=AX$. \\\n",
    "It then turns out that the eigenvalues of $A$ are also eigenvalues of $U$!"
   ]
  },
  {
   "cell_type": "code",
   "execution_count": 174,
   "metadata": {},
   "outputs": [],
   "source": [
    "# Dynamics (forward map) function\n",
    "def F(z, lmbda=0.9, mu=0.5, c=1):\n",
    "    z1,z2 = z\n",
    "    newz = [lmbda*z1, mu*z2 + (lmbda**2 - mu)*c*z1**2]\n",
    "    return np.array(newz)\n",
    "def obs(z,obs_dct):\n",
    "    observations = [g(z) for g in obs_dct]\n",
    "    return np.array(observations)\n",
    "obs_dct1 = {\n",
    "    lambda z: z[0],\n",
    "    lambda z: z[1]\n",
    "}\n",
    "obs_dct2 = {\n",
    "    lambda z: z[0],\n",
    "    lambda z: z[1],\n",
    "    lambda z: z[0]**2\n",
    "}\n",
    "obs_dct3 = {\n",
    "    lambda z: z[0],\n",
    "    lambda z: z[1],\n",
    "    lambda z: z[1]**2\n",
    "}\n",
    "Z = np.array([[-5,5],[-1,1],[1,1],[5,5]]).T # data points\n",
    "# But different datasets give different results! (sometimes better, sometimes worst)\n",
    "# Z = np.array([[-5,-5],[-1,-1],[-1,1],[-5,5]]).T\n",
    "# Z = np.array([[-5,-5],[-1,-1],[-1,1],[-5,5]]).%"
   ]
  },
  {
   "cell_type": "code",
   "execution_count": 175,
   "metadata": {},
   "outputs": [
    {
     "name": "stdout",
     "output_type": "stream",
     "text": [
      "[0.9 0.5]\n"
     ]
    }
   ],
   "source": [
    "# First we test the linear case (c=0), which looks like\n",
    "# F = [0.9   0]\n",
    "#     [0.  0.5]\n",
    "obs_dct = obs_dct1 # choose dictionary of observables\n",
    "FZ = np.apply_along_axis(lambda z: F(z,c=0),0,Z)\n",
    "X = np.apply_along_axis(lambda z: obs(z,obs_dct),0,Z)\n",
    "Y = np.apply_along_axis(lambda z: obs(z,obs_dct),0,FZ)\n",
    "\n",
    "# We learn A st Y=AX\n",
    "A = Y @ np.linalg.pinv(X)\n",
    "D,Q = np.linalg.eig(A)\n",
    "print(\"Eigenvalues discoveredD) # sure enough we recover the eigenvalues (but other datasets may fail!)"
   ]
  },
  {
   "cell_type": "code",
   "execution_count": 177,
   "metadata": {},
   "outputs": [
    {
     "name": "stdout",
     "output_type": "stream",
     "text": [
      "[0.9        2.00230769]\n"
     ]
    }
   ],
   "source": [
    "# Then we test with c=1 (doesn't work because observables (z1,z2) not rich enough!)\n",
    "obs_dct = obs_dct1 # choose dictionary of observables\n",
    "FZ = np.apply_along_axis(F,0,Z)\n",
    "X = np.apply_along_axis(lambda z: obs(z,obs_dct),0,Z)\n",
    "Y = np.apply_along_axis(lambda z: obs(z,obs_dct),0,FZ)\n",
    "\n",
    "# We learn A st Y=AX\n",
    "A = Y @ np.linalg.pinv(X)\n",
    "D,Q = np.linalg.eig(A)\n",
    "print(D)"
   ]
  },
  {
   "cell_type": "code",
   "execution_count": 179,
   "metadata": {},
   "outputs": [
    {
     "name": "stdout",
     "output_type": "stream",
     "text": [
      "[0.9  0.5  0.81]\n"
     ]
    }
   ],
   "source": [
    "# Now we try with 2nd dictionary of observables (z1,z2,z1^2)\n",
    "obs_dct = obs_dct2 # choose dictionary of observables\n",
    "FZ = np.apply_along_axis(F,0,Z)\n",
    "X = np.apply_along_axis(lambda z: obs(z,obs_dct),0,Z)\n",
    "Y = np.apply_along_axis(lambda z: obs(z,obs_dct),0,FZ)\n",
    "\n",
    "# We learn A st Y=AX\n",
    "A = Y @ np.linalg.pinv(X)\n",
    "D,Q = np.linalg.eig(A)\n",
    "print(D)"
   ]
  },
  {
   "cell_type": "code",
   "execution_count": 181,
   "metadata": {},
   "outputs": [
    {
     "name": "stdout",
     "output_type": "stream",
     "text": [
      "[0.9        0.82205673 4.76704327]\n"
     ]
    }
   ],
   "source": [
    "# Now we try with 3rd dictionary of observables (z1,z2,z2^2) -- z2^2 is  not good enough to recover 2nd eval\n",
    "obs_dct = obs_dct3 # choose dictionary of observables\n",
    "FZ = np.apply_along_axis(F,0,Z)\n",
    "X = np.apply_along_axis(lambda z: obs(z,obs_dct),0,Z)\n",
    "Y = np.apply_along_axis(lambda z: obs(z,obs_dct),0,FZ)\n",
    "\n",
    "# We learn A st Y=AX\n",
    "A = Y @ np.linalg.pinv(X)\n",
    "D,Q = np.linalg.eig(A)\n",
    "print(D)"
   ]
  },
  {
   "cell_type": "code",
   "execution_count": null,
   "metadata": {},
   "outputs": [],
   "source": []
  }
 ],
 "metadata": {
  "kernelspec": {
   "display_name": "Python 3",
   "language": "python",
   "name": "python3"
  },
  "language_info": {
   "codemirror_mode": {
    "name": "ipython",
    "version": 3
   },
   "file_extension": ".py",
   "mimetype": "text/x-python",
   "name": "python",
   "nbconvert_exporter": "python",
   "pygments_lexer": "ipython3",
   "version": "3.7.7"
  }
 },
 "nbformat": 4,
 "nbformat_minor": 2
}
